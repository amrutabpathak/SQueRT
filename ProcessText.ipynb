{
 "cells": [
  {
   "cell_type": "code",
   "execution_count": 1,
   "metadata": {
    "collapsed": true
   },
   "outputs": [],
   "source": [
    "import os\n",
    "import glob\n",
    "import sys\n",
    "\n",
    "# pip install pdfminer.six\n",
    "from pdfminer.pdfinterp import PDFResourceManager, PDFPageInterpreter\n",
    "from pdfminer.pdfpage import PDFPage\n",
    "from pdfminer.converter import XMLConverter, HTMLConverter, TextConverter\n",
    "from pdfminer.layout import LAParams\n",
    "import io"
   ]
  },
  {
   "cell_type": "code",
   "execution_count": null,
   "metadata": {},
   "outputs": [],
   "source": []
  },
  {
   "cell_type": "code",
   "execution_count": null,
   "metadata": {
    "collapsed": true
   },
   "outputs": [],
   "source": [
    "def pdfToText(research_paper_name, txtdir):\n",
    "    #Create directory for the text files\n",
    "    if (not os.path.exists(txtdir)):\n",
    "        os.mkdir(txtdir)\n",
    "    \n",
    "    fp = open(research_paper_name, 'rb')\n",
    "    rsrcmgr = PDFResourceManager()\n",
    "    retstr = io.StringIO()\n",
    "    codec = 'utf-8'\n",
    "    laparams = LAParams()\n",
    "    device = TextConverter(rsrcmgr, retstr, codec=codec, laparams=laparams)\n",
    "    interpreter = PDFPageInterpreter(rsrcmgr, device)\n",
    "    for page in PDFPage.get_pages(fp):\n",
    "        interpreter.process_page(page)\n",
    "        data =  retstr.getvalue()\n",
    "    research_paper_txt_name = research_paper_name.replace(\"pdf\",\"txt\")\n",
    "    research_paper_txt_name = research_paper_txt_name.replace(\"Data\",\"Datatxt\")\n",
    "    output_file = open(research_paper_txt_name, \"wb\")\n",
    "    output_file.write(data.encode(\"utf8\"))"
   ]
  },
  {
   "cell_type": "code",
   "execution_count": 61,
   "metadata": {
    "colab": {
     "base_uri": "https://localhost:8080/",
     "height": 104
    },
    "colab_type": "code",
    "collapsed": false,
    "id": "od3urGeruLl5",
    "outputId": "7ef37d32-bbcb-403f-f1a1-2da4c04e2423"
   },
   "outputs": [
    {
     "name": "stdout",
     "output_type": "stream",
     "text": [
      "a.txt\n",
      "/content\n",
      "/content/snippet_data\n",
      "a_3.csv\n",
      "Exit\n"
     ]
    }
   ],
   "source": [
    "def snippetToCsv(researchFile, sentenceNum, csvdir):\n",
    "  try:\n",
    "    #Calling Spacy function to return a list\n",
    "    #sentenceList = spacyFunction(researchFile,sentenceNum)\n",
    "    #Test List\n",
    "    snippets = snippetProducerSplit(researchFile, sentenceNum)\n",
    "\n",
    "    #Splitting file name and path\n",
    "    filePath, fileName = os.path.split(researchFile)\n",
    "\n",
    "    #Creating a separate folder for all the csv files if it does not exist\n",
    "    snippetDataDirPath = \"C:/Users/God/git/CS7800/7180QueryTool/DataCsv\"\n",
    "\n",
    "    # Creating a folder for all the csv files if it does not exist\n",
    "    if( not os.path.exists(csvdir)):\n",
    "      os.mkdir(csvdir)\n",
    "\n",
    "    #create a file name : Eg BestModel_3.csv\n",
    "    fileName = fileName.replace(\".txt\",\"\")\n",
    "    fileName = fileName +\"_\"+ str(sentenceNum) + \".csv\"\n",
    "    # print(fileName)\n",
    "\n",
    "    #Complete path\n",
    "    fileName = csvdir +\"/\"+fileName\n",
    "\n",
    "    #Checking if the files already exist in snippet_data\n",
    "    if(glob.glob(fileName)):\n",
    "      print(\"File already exists.\")\n",
    "      return\n",
    "\n",
    "    #If not, we create and write in the files\n",
    "    with open(fileName,\"w+\", encoding='utf-8' ) as file: \n",
    "      for sentence in snippets:\n",
    "          # print(str(sentence.encode(sys.stdout.encoding, errors='replace')))\n",
    "          # file.write(str(sentence.encode(sys.stdout.encoding, errors='replace')))\n",
    "          file.write(sentence)\n",
    "          file.write(\"\\n\")\n",
    "          file.write(\"<EOS>\")\n",
    "          file.write(\"\\n\")\n",
    "    \n",
    "  except Exception as e:\n",
    "    print (\"Unexpected error occurred : Details are \", sys.exc_info()[0], sys.exc_info()[1])\n",
    "\n"
   ]
  },
  {
   "cell_type": "code",
   "execution_count": null,
   "metadata": {},
   "outputs": [],
   "source": [
    "import spacy\n",
    "\n",
    "def snippetProducerSplit(file, lengthSnippets):\n",
    "    f = open(file, encoding='utf8', errors='ignore')\n",
    "    file_content = f.read()\n",
    "    # Replaces certain words that likely end with a period with words without aperiod\n",
    "    for i in range(len(replace_words)):\n",
    "      file_content = re.sub(replace_words[i], replace_to_word[i], file_content)\n",
    "    # Split at sentences which means its in regex \\w\\.\\s[A-Z0-9]|\\s\n",
    "    # So its splits at word character a period or ! or ? followed by a space then A-Z capital or 0-9 or a space\n",
    "    sentences = re.split(split_sentences, file_content)\n",
    "    snippets = [] # Snippet Array\n",
    "    # Takes each setence the spacy displays and for the lenght of snippet paramter\n",
    "    # which should be the number of sentences returns a snippet of that number of sentences\n",
    "    for i in range(0, len(sentences), lengthSnippets):\n",
    "        snippet = \"\"\n",
    "        for j in range(lengthSnippets):\n",
    "            if i+j >= len(sentences):\n",
    "                continue\n",
    "            snippet = snippet + sentences[i+j] \n",
    "        snippets.append(snippet)\n",
    "    return snippets"
   ]
  }
 ],
 "metadata": {
  "colab": {
   "collapsed_sections": [],
   "name": "TextToSnippetConversionAndCSVSave",
   "provenance": [],
   "toc_visible": true
  },
  "kernelspec": {
   "display_name": "Python [Root]",
   "language": "python",
   "name": "Python [Root]"
  },
  "language_info": {
   "codemirror_mode": {
    "name": "ipython",
    "version": 3
   },
   "file_extension": ".py",
   "mimetype": "text/x-python",
   "name": "python",
   "nbconvert_exporter": "python",
   "pygments_lexer": "ipython3",
   "version": "3.5.1"
  }
 },
 "nbformat": 4,
 "nbformat_minor": 1
}