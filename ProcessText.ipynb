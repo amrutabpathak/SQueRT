{
 "cells": [
  {
   "cell_type": "code",
   "execution_count": 1,
   "metadata": {},
   "outputs": [],
   "source": [
    "import os\n",
    "import glob\n",
    "from pdfminer.pdfinterp import PDFResourceManager, PDFPageInterpreter\n",
    "from pdfminer.pdfpage import PDFPage\n",
    "from pdfminer.converter import XMLConverter, HTMLConverter, TextConverter\n",
    "from pdfminer.layout import LAParams\n",
    "import io"
   ]
  },
  {
   "cell_type": "code",
   "execution_count": null,
   "metadata": {},
   "outputs": [],
   "source": [
    "def pdfToText(research_paper_name):\n",
    "    #Create directory for the text files\n",
    "    txtdir = 'C:/Users/Evan/Documents/7180QueryTool/DataTxt/'\n",
    "    if (not os.path.exists(txtdir)):\n",
    "        os.mkdir(txtdir)\n",
    "    \n",
    "    fp = open(research_paper_name, 'rb')\n",
    "    rsrcmgr = PDFResourceManager()\n",
    "    retstr = io.StringIO()\n",
    "    codec = 'utf-8'\n",
    "    laparams = LAParams()\n",
    "    device = TextConverter(rsrcmgr, retstr, codec=codec, laparams=laparams)\n",
    "    interpreter = PDFPageInterpreter(rsrcmgr, device)\n",
    "    for page in PDFPage.get_pages(fp):\n",
    "        interpreter.process_page(page)\n",
    "        data =  retstr.getvalue()\n",
    "    research_paper_txt_name = research_paper_name.replace(\"pdf\",\"txt\")\n",
    "    research_paper_txt_name = research_paper_txt_name.replace(\"Data\",\"Datatxt\")\n",
    "    output_file = open(research_paper_txt_name, \"w+\")\n",
    "    output_file.write(data)"
   ]
  },
  {
   "cell_type": "code",
   "execution_count": 61,
   "metadata": {
    "colab": {
     "base_uri": "https://localhost:8080/",
     "height": 104
    },
    "colab_type": "code",
    "id": "od3urGeruLl5",
    "outputId": "7ef37d32-bbcb-403f-f1a1-2da4c04e2423"
   },
   "outputs": [
    {
     "name": "stdout",
     "output_type": "stream",
     "text": [
      "a.txt\n",
      "/content\n",
      "/content/snippet_data\n",
      "a_3.csv\n",
      "Exit\n"
     ]
    }
   ],
   "source": [
    "def snippetToCsv(researchFile, sentenceNum):\n",
    "  try:\n",
    "    #Calling Spacy function to return a list\n",
    "    #sentenceList = spacyFunction(researchFile,sentenceNum)\n",
    "    #Test List\n",
    "    sentenceList = [\"I am a human.We all are humans.You are a human\",\"Hello world. Hi. Test World\"]\n",
    "\n",
    "    #Splitting file name and path\n",
    "    filePath, fileName = os.path.split(researchFile)\n",
    "    print(fileName)\n",
    "    print(filePath)\n",
    "\n",
    "    #Creating a separate folder for all the csv files if it does not exist\n",
    "    snippetDataDirPath = filePath + \"/snippet_data\"\n",
    "    print(snippetDataDirPath)\n",
    "\n",
    "    # Creating a folder for all the csv files if it does not exist\n",
    "    if( not os.path.exists(snippetDataDirPath)):\n",
    "      os.mkdir(snippetDataDirPath)\n",
    "\n",
    "    #create a file name : Eg BestModel_3.csv\n",
    "    fileName = fileName.replace(\".txt\",\"\")\n",
    "    fileName = fileName +\"_\"+ str(sentenceNum) + \".csv\"\n",
    "    print(fileName)\n",
    "\n",
    "    #Complete path\n",
    "    fileName = snippetDataDirPath+\"/\"+fileName\n",
    "\n",
    "    #Checking if the files already exist in snippet_data\n",
    "    if(glob.glob(fileName)):\n",
    "      print(\"File already exists.\")\n",
    "      return\n",
    "\n",
    "    #If not, we create and write in the files\n",
    "    with open(fileName,\"w+\") as file: \n",
    "      for sentence in sentenceList:\n",
    "        file.write(sentence)\n",
    "        file.write(\"\\n\")\n",
    "        file.write(\"<EOS>\")\n",
    "        file.write(\"\\n\")\n",
    "    \n",
    "  except Exception as e:\n",
    "    print (\"Unexpected error occurred : Details are \", sys.exc_info()[0])\n",
    "  finally:\n",
    "    print(\"Exit\")\n",
    "\n",
    "#Calling the function, \n",
    "#Takes research file(alongwith the file path) and number of sentences \n",
    "#snippetToCsv(\"/content/a.txt\",3)\n"
   ]
  }
 ],
 "metadata": {
  "colab": {
   "collapsed_sections": [],
   "name": "TextToSnippetConversionAndCSVSave",
   "provenance": [],
   "toc_visible": true
  },
  "kernelspec": {
   "display_name": "Python 3",
   "language": "python",
   "name": "python3"
  },
  "language_info": {
   "codemirror_mode": {
    "name": "ipython",
    "version": 3
   },
   "file_extension": ".py",
   "mimetype": "text/x-python",
   "name": "python",
   "nbconvert_exporter": "python",
   "pygments_lexer": "ipython3",
   "version": "3.6.4"
  }
 },
 "nbformat": 4,
 "nbformat_minor": 1
}
