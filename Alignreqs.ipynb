{
 "cells": [
  {
   "cell_type": "code",
   "execution_count": 1,
   "metadata": {},
   "outputs": [],
   "source": [
    "file1 = open(\"requirements.txt\")\n",
    "file2 = open(\"requirements1.txt\")\n",
    "\n",
    "buf = open(\"finalreqs.txt\", \"w\")"
   ]
  },
  {
   "cell_type": "code",
   "execution_count": 2,
   "metadata": {},
   "outputs": [
    {
     "name": "stdout",
     "output_type": "stream",
     "text": [
      "{'astroid': '2.1.0\\n', 'attrs': '19.3.0\\n', 'autopep8': '1.4.3\\n', 'certifi': '2020.4.5.1\\n', 'chardet': '3.0.4\\n', 'click': '7.1.1\\n', 'clickclick': '1.2.2\\n', 'colorama': '0.4.1\\n', 'connexion': '2.6.0\\n', 'Flask': '1.1.2\\n', 'fuzzywuzzy': '0.18.0\\n', 'idna': '2.9\\n', 'importlib-metadata': '1.6.0\\n', 'inflection': '0.4.0\\n', 'isort': '4.3.4\\n', 'itsdangerous': '1.1.0\\n', 'Jinja2': '2.11.1\\n', 'jsonschema': '3.2.0\\n', 'lazy-object-proxy': '1.3.1\\n', 'MarkupSafe': '1.1.1\\n', 'mccabe': '0.6.1\\n', 'openapi-spec-validator': '0.2.8\\n', 'panda3d': '1.10.5\\n', 'pdfminer': '20191125\\n', 'pep8': '1.7.1\\n', 'pycodestyle': '2.5.0\\n', 'pycryptodome': '3.9.7\\n', 'pylint': '2.2.2\\n', 'pyrsistent': '0.16.0\\n', 'python-Levenshtein': '0.12.0\\n', 'PyYAML': '5.3.1\\n', 'requests': '2.23.0\\n', 'six': '1.12.0\\n', 'urllib3': '1.25.8\\n', 'Werkzeug': '1.0.1\\n', 'wrapt': '1.11.1\\n', 'zipp': '3.1.0\\n'}\n"
     ]
    }
   ],
   "source": [
    "file1dict = {}\n",
    "for line in file1:\n",
    "    items = line.split(\"==\")\n",
    "    pkgname = items[0]\n",
    "    version = items[1]\n",
    "    file1dict[pkgname] = version\n",
    "print(file1dict)"
   ]
  },
  {
   "cell_type": "code",
   "execution_count": 3,
   "metadata": {},
   "outputs": [
    {
     "name": "stdout",
     "output_type": "stream",
     "text": [
      "{'absl-py': '0.9.0\\n', 'astor': '0.8.1\\n', 'astroid': '2.1.0\\n', 'attrs': '19.3.0\\n', 'autopep8': '1.4.3\\n', 'backcall': '0.1.0\\n', 'bleach': '3.1.3\\n', 'blis': '0.4.1\\n', 'boto3': '1.12.29\\n', 'botocore': '1.15.29\\n', 'cachetools': '4.0.0\\n', 'catalogue': '1.0.0\\n', 'certifi': '2020.4.5.1\\n', 'chardet': '3.0.4\\n', 'click': '7.1.1\\n', 'clickclick': '1.2.2\\n', 'colorama': '0.4.1\\n', 'connection': '2019.4.13\\n', 'connexion': '2.6.0\\n', 'cycler': '0.10.0\\n', 'cymem': '2.0.3\\n', 'decorator': '4.4.2\\n', 'defusedxml': '0.6.0\\n', 'docutils': '0.15.2\\n', 'en-trf-bertbaseuncased-lg': '2.2.0\\n', 'en-trf-distilbertbaseuncased-lg': '2.2.0\\n', 'en-trf-robertabase-lg': '2.2.0\\n', 'entrypoints': '0.3\\n', 'filelock': '3.0.12\\n', 'Flask': '1.1.2\\n', 'ftfy': '5.7\\n', 'fuzzywuzzy': '0.18.0\\n', 'gast': '0.2.2\\n', 'google-auth': '1.11.3\\n', 'google-auth-oauthlib': '0.4.1\\n', 'google-pasta': '0.2.0\\n', 'grpcio': '1.27.2\\n', 'h5py': '2.10.0\\n', 'idna': '2.9\\n', 'import-ipynb': '0.1.3\\n', 'importlib-metadata': '1.6.0\\n', 'inflection': '0.4.0\\n', 'ipykernel': '5.1.4\\n', 'ipython': '7.13.0\\n', 'ipython-genutils': '0.2.0\\n', 'isort': '4.3.4\\n', 'itsdangerous': '1.1.0\\n', 'jedi': '0.16.0\\n', 'Jinja2': '2.11.1\\n', 'jmespath': '0.9.5\\n', 'joblib': '0.14.1\\n', 'jsonschema': '3.2.0\\n', 'jupyter-client': '6.0.0\\n', 'jupyter-core': '4.6.3\\n', 'Keras-Applications': '1.0.8\\n', 'Keras-Preprocessing': '1.1.0\\n', 'kiwisolver': '1.1.0\\n', 'lazy-object-proxy': '1.3.1\\n', 'Markdown': '3.2.1\\n', 'MarkupSafe': '1.1.1\\n', 'matplotlib': '3.2.1\\n', 'mccabe': '0.6.1\\n', 'mistune': '0.8.4\\n', 'murmurhash': '1.0.2\\n', 'nbconvert': '5.6.1\\n', 'nbformat': '5.0.4\\n', 'notebook': '6.0.3\\n', 'numpy': '1.18.2\\n', 'oauthlib': '3.1.0\\n', 'openapi-spec-validator': '0.2.8\\n', 'opt-einsum': '3.2.0\\n', 'panda3d': '1.10.5\\n', 'pandocfilters': '1.4.2\\n', 'parso': '0.6.2\\n', 'pdfminer': '20191125\\n', 'pdfminer.six': '20200124\\n', 'pep8': '1.7.1\\n', 'pickleshare': '0.7.5\\n', 'Pillow': '7.0.0\\n', 'plac': '1.1.3\\n', 'preshed': '3.0.2\\n', 'prometheus-client': '0.7.1\\n', 'prompt-toolkit': '3.0.4\\n', 'protobuf': '3.11.3\\n', 'public': '2019.4.13\\n', 'pyasn1': '0.4.8\\n', 'pyasn1-modules': '0.2.8\\n', 'pycodestyle': '2.5.0\\n', 'pycryptodome': '3.9.7\\n', 'Pygments': '2.6.1\\n', 'pylint': '2.2.2\\n', 'pyparsing': '2.4.6\\n', 'pyrsistent': '0.16.0\\n', 'python-dateutil': '2.8.1\\n', 'python-Levenshtein-wheels': '0.13.1\\n', 'pywin32': '227\\n', 'pywinpty': '0.5.7\\n', 'PyYAML': '5.3.1\\n', 'pyzmq': '19.0.0\\n', 'regex': '2020.2.20\\n', 'requests': '2.23.0\\n', 'requests-oauthlib': '1.3.0\\n', 'rsa': '4.0\\n', 's3transfer': '0.3.3\\n', 'sacremoses': '0.0.38\\n', 'scikit-learn': '0.22.2.post1\\n', 'scipy': '1.4.1\\n', 'Send2Trash': '1.5.0\\n', 'sentencepiece': '0.1.85\\n', 'six': '1.12.0\\n', 'sortedcontainers': '2.1.0\\n', 'spacy': '2.2.4\\n', 'spacy-transformers': '0.5.1\\n', 'srsly': '1.0.2\\n', 'tensorboard': '2.1.1\\n', 'tensorflow': '2.1.0\\n', 'tensorflow-estimator': '2.1.0\\n', 'tensorflow-hub': '0.7.0\\n', 'termcolor': '1.1.0\\n', 'terminado': '0.8.3\\n', 'testpath': '0.4.4\\n', 'thinc': '7.4.0\\n', 'tokenizers': '0.7.0rc5\\n', 'torch': '1.3.1+cpu\\n', 'torchcontrib': '0.0.2\\n', 'torchvision': '0.4.2+cpu\\n', 'tornado': '6.0.4\\n', 'tqdm': '4.43.0\\n', 'traitlets': '4.3.3\\n', 'transformers': '2.8.0\\n', 'urllib3': '1.25.8\\n', 'wasabi': '0.6.0\\n', 'wcwidth': '0.1.8\\n', 'webencodings': '0.5.1\\n', 'Werkzeug': '1.0.1\\n', 'wrapt': '1.11.1\\n', 'zipp': '3.1.0\\n'}\n"
     ]
    }
   ],
   "source": [
    "file2dict = {}\n",
    "for line in file2:\n",
    "    items = line.split(\"==\")\n",
    "    pkgname = items[0]\n",
    "    version = items[1]\n",
    "    file2dict[pkgname] = version\n",
    "print(file2dict)"
   ]
  },
  {
   "cell_type": "code",
   "execution_count": 4,
   "metadata": {},
   "outputs": [],
   "source": [
    "for k, v in file2dict.items():\n",
    "    if k in file1dict:\n",
    "        string = k + \"==\" + v\n",
    "        buf.write(string)\n",
    "buf.close()"
   ]
  },
  {
   "cell_type": "code",
   "execution_count": 5,
   "metadata": {},
   "outputs": [
    {
     "data": {
      "text/plain": [
       "36"
      ]
     },
     "execution_count": 5,
     "metadata": {},
     "output_type": "execute_result"
    }
   ],
   "source": [
    "count = 0\n",
    "with open(\"finalreqs.txt\") as f:\n",
    "    for line in f:\n",
    "        count += 1\n",
    "count"
   ]
  },
  {
   "cell_type": "code",
   "execution_count": 6,
   "metadata": {},
   "outputs": [
    {
     "data": {
      "text/plain": [
       "37"
      ]
     },
     "execution_count": 6,
     "metadata": {},
     "output_type": "execute_result"
    }
   ],
   "source": [
    "len(file1dict)"
   ]
  },
  {
   "cell_type": "code",
   "execution_count": null,
   "metadata": {},
   "outputs": [],
   "source": []
  }
 ],
 "metadata": {
  "kernelspec": {
   "display_name": "Python 3",
   "language": "python",
   "name": "python3"
  },
  "language_info": {
   "codemirror_mode": {
    "name": "ipython",
    "version": 3
   },
   "file_extension": ".py",
   "mimetype": "text/x-python",
   "name": "python",
   "nbconvert_exporter": "python",
   "pygments_lexer": "ipython3",
   "version": "3.7.0"
  }
 },
 "nbformat": 4,
 "nbformat_minor": 4
}
