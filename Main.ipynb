{
 "cells": [
  {
   "cell_type": "code",
   "execution_count": 1,
   "metadata": {},
   "outputs": [
    {
     "name": "stdout",
     "output_type": "stream",
     "text": [
      "importing Jupyter notebook from ProcessText.ipynb\n"
     ]
    }
   ],
   "source": [
    "# pip install pdfminer.six\n",
    "# pip install ipynb\n",
    "\n",
    "# Import statements go here\n",
    "\n",
    "import import_ipynb\n",
    "import ProcessText\n",
    "import glob"
   ]
  },
  {
   "cell_type": "code",
   "execution_count": 1,
   "metadata": {},
   "outputs": [],
   "source": [
    "# Scrape papers to pdf folder\n",
    "%run -i 'arxiv_pdf_scraper.py'"
   ]
  },
  {
   "cell_type": "code",
   "execution_count": 2,
   "metadata": {},
   "outputs": [],
   "source": [
    "# Convert pdfs to text\n",
    "pdfdir = 'C:/Users/Evan/Documents/7180QueryTool/Data/*.pdf'\n",
    "for research_paper_name in glob.glob(pdfdir):\n",
    "    ProcessText.pdfToText(research_paper_name)"
   ]
  },
  {
   "cell_type": "code",
   "execution_count": 3,
   "metadata": {},
   "outputs": [
    {
     "name": "stdout",
     "output_type": "stream",
     "text": [
      "Query: What model was introduced in this paper?\n"
     ]
    }
   ],
   "source": [
    "# Basic user interface; obtain query\n",
    "print(\"Query: What model was introduced in this paper?\")"
   ]
  },
  {
   "cell_type": "code",
   "execution_count": 5,
   "metadata": {},
   "outputs": [
    {
     "name": "stdout",
     "output_type": "stream",
     "text": [
      "C-SWM.txt\n",
      "C:/Users/Evan/Documents/7180QueryTool/DataTxt\n",
      "C:/Users/Evan/Documents/7180QueryTool/DataTxt/snippet_data\n",
      "C-SWM_3.csv\n",
      "Exit\n"
     ]
    }
   ],
   "source": [
    "# Convert text files to CSV snippets\n",
    "txtdir = 'C:/Users/Evan/Documents/7180QueryTool/DataTxt/*.txt'\n",
    "sentenceNum = 3\n",
    "for research_paper_name in glob.glob(txtdir):\n",
    "    ProcessText.snippetToCsv(research_paper_name, sentenceNum)"
   ]
  },
  {
   "cell_type": "code",
   "execution_count": 4,
   "metadata": {},
   "outputs": [],
   "source": [
    "# Use USE to obtain best snippets for query"
   ]
  },
  {
   "cell_type": "code",
   "execution_count": null,
   "metadata": {},
   "outputs": [],
   "source": [
    "# Run BERT on best snippets, return results"
   ]
  }
 ],
 "metadata": {
  "kernelspec": {
   "display_name": "Python 3",
   "language": "python",
   "name": "python3"
  },
  "language_info": {
   "codemirror_mode": {
    "name": "ipython",
    "version": 3
   },
   "file_extension": ".py",
   "mimetype": "text/x-python",
   "name": "python",
   "nbconvert_exporter": "python",
   "pygments_lexer": "ipython3",
   "version": "3.6.4"
  }
 },
 "nbformat": 4,
 "nbformat_minor": 2
}
