{
 "cells": [
  {
   "cell_type": "code",
   "execution_count": 1,
   "metadata": {},
   "outputs": [
    {
     "name": "stdout",
     "output_type": "stream",
     "text": [
      "importing Jupyter notebook from ProcessText.ipynb\n",
      "['HTMLConverter', 'LAParams', 'PDFPage', 'PDFPageInterpreter', 'PDFResourceManager', 'TextConverter', 'XMLConverter', '__builtins__', '__doc__', '__file__', '__loader__', '__name__', '__package__', '__spec__', 'get_ipython', 'glob', 'io', 'os', 'pdfToText', 're', 'remove_intext_citations', 'remove_references', 'replace_to_word', 'replace_words', 'snippetProducerSplit', 'snippetToCsv', 'split_sentences', 'sys']\n"
     ]
    }
   ],
   "source": [
    "import import_ipynb\n",
    "import ProcessText\n",
    "import glob\n",
    "import os\n",
    "print(dir(ProcessText))"
   ]
  },
  {
   "cell_type": "code",
   "execution_count": 2,
   "metadata": {},
   "outputs": [],
   "source": [
    "pdfdir = 'C:/Users/Evan/Documents/7180QueryTool/Data/'\n",
    "# txtdir = 'C:/Users/Evan/Documents/7180QueryTool/DataTxt/'\n",
    "txtdir = \"C:/Users/God/git/CS7800/7180QueryTool/DataTxt/\"\n",
    "#csvdir = \"C:/Users/God/git/CS7800/7180QueryTool/DataCsv/\"\n",
    "csvdir = 'C:/Users/Evan/Documents/7180QueryTool/DataCsv/'"
   ]
  },
  {
   "cell_type": "code",
   "execution_count": 3,
   "metadata": {},
   "outputs": [
    {
     "name": "stdout",
     "output_type": "stream",
     "text": [
      "Query: %s Which model is best for large batch optimization of bert?\n"
     ]
    }
   ],
   "source": [
    "# Basic user interface; obtain query\n",
    "query = \"Which model is best for large batch optimization of bert?\"\n",
    "print(\"Query: %s\", query)"
   ]
  },
  {
   "cell_type": "code",
   "execution_count": 1,
   "metadata": {},
   "outputs": [],
   "source": [
    "# Scrape papers to pdf folder\n",
    "%run -i arxiv_pdf_scraper 5"
   ]
  },
  {
   "cell_type": "code",
   "execution_count": 18,
   "metadata": {},
   "outputs": [],
   "source": [
    "# Convert pdfs to text\n",
    "for pdfPaperName in glob.glob(pdfdir + \"*.pdf\"):\n",
    "    ProcessText.pdfToText(pdfPaperName, txtdir)"
   ]
  },
  {
   "cell_type": "code",
   "execution_count": 20,
   "metadata": {
    "scrolled": false
   },
   "outputs": [
    {
     "name": "stdout",
     "output_type": "stream",
     "text": [
      "File already exists.\n",
      "File already exists.\n",
      "File already exists.\n",
      "File already exists.\n",
      "File already exists.\n",
      "File already exists.\n",
      "File already exists.\n",
      "File already exists.\n",
      "File already exists.\n"
     ]
    }
   ],
   "source": [
    "# Convert text files to CSV snippets\n",
    "sentenceNum = 3\n",
    "for txtPaperName in glob.glob(txtdir + \"*.txt\"):\n",
    "    ProcessText.snippetToCsv(txtPaperName, sentenceNum, csvdir)"
   ]
  },
  {
   "cell_type": "code",
   "execution_count": 5,
   "metadata": {},
   "outputs": [
    {
     "name": "stdout",
     "output_type": "stream",
     "text": [
      "importing Jupyter notebook from QuestionAnswering.ipynb\n"
     ]
    },
    {
     "ename": "ImportError",
     "evalue": "cannot import name 'AlbertConfig' from 'transformers' (c:\\users\\evan\\appdata\\local\\programs\\python\\python37\\lib\\site-packages\\transformers\\__init__.py)",
     "output_type": "error",
     "traceback": [
      "\u001b[1;31m---------------------------------------------------------------------------\u001b[0m",
      "\u001b[1;31mImportError\u001b[0m                               Traceback (most recent call last)",
      "\u001b[1;32m<ipython-input-5-6cce9d9b8ba1>\u001b[0m in \u001b[0;36m<module>\u001b[1;34m\u001b[0m\n\u001b[0;32m      1\u001b[0m \u001b[1;31m# Obtain best snippets for the query\u001b[0m\u001b[1;33m\u001b[0m\u001b[1;33m\u001b[0m\u001b[0m\n\u001b[0;32m      2\u001b[0m \u001b[1;32mimport\u001b[0m \u001b[0mRelevantSnippets\u001b[0m\u001b[1;33m\u001b[0m\u001b[0m\n\u001b[1;32m----> 3\u001b[1;33m \u001b[1;32mimport\u001b[0m \u001b[0mQuestionAnswering\u001b[0m\u001b[1;33m\u001b[0m\u001b[0m\n\u001b[0m\u001b[0;32m      4\u001b[0m \u001b[1;32mfor\u001b[0m \u001b[0mcsvPaperName\u001b[0m \u001b[1;32min\u001b[0m \u001b[0mglob\u001b[0m\u001b[1;33m.\u001b[0m\u001b[0mglob\u001b[0m\u001b[1;33m(\u001b[0m\u001b[0mcsvdir\u001b[0m \u001b[1;33m+\u001b[0m \u001b[1;34m\"*.csv\"\u001b[0m\u001b[1;33m)\u001b[0m\u001b[1;33m:\u001b[0m\u001b[1;33m\u001b[0m\u001b[0m\n\u001b[0;32m      5\u001b[0m     \u001b[0mrelevantSnippets\u001b[0m \u001b[1;33m=\u001b[0m \u001b[0mRelevantSnippets\u001b[0m\u001b[1;33m.\u001b[0m\u001b[0mreturnRelevant\u001b[0m\u001b[1;33m(\u001b[0m\u001b[0mcsvPaperName\u001b[0m\u001b[1;33m,\u001b[0m \u001b[0mquery\u001b[0m\u001b[1;33m)\u001b[0m\u001b[1;33m\u001b[0m\u001b[0m\n",
      "\u001b[1;32mc:\\users\\evan\\appdata\\local\\programs\\python\\python37\\lib\\site-packages\\import_ipynb.py\u001b[0m in \u001b[0;36mload_module\u001b[1;34m(self, fullname)\u001b[0m\n\u001b[0;32m     59\u001b[0m                 \u001b[0mcode\u001b[0m \u001b[1;33m=\u001b[0m \u001b[0mself\u001b[0m\u001b[1;33m.\u001b[0m\u001b[0mshell\u001b[0m\u001b[1;33m.\u001b[0m\u001b[0minput_transformer_manager\u001b[0m\u001b[1;33m.\u001b[0m\u001b[0mtransform_cell\u001b[0m\u001b[1;33m(\u001b[0m\u001b[0mcell\u001b[0m\u001b[1;33m.\u001b[0m\u001b[0msource\u001b[0m\u001b[1;33m)\u001b[0m\u001b[1;33m\u001b[0m\u001b[0m\n\u001b[0;32m     60\u001b[0m                 \u001b[1;31m# run the code in themodule\u001b[0m\u001b[1;33m\u001b[0m\u001b[1;33m\u001b[0m\u001b[0m\n\u001b[1;32m---> 61\u001b[1;33m                 \u001b[0mexec\u001b[0m\u001b[1;33m(\u001b[0m\u001b[0mcode\u001b[0m\u001b[1;33m,\u001b[0m \u001b[0mmod\u001b[0m\u001b[1;33m.\u001b[0m\u001b[0m__dict__\u001b[0m\u001b[1;33m)\u001b[0m\u001b[1;33m\u001b[0m\u001b[0m\n\u001b[0m\u001b[0;32m     62\u001b[0m         \u001b[1;32mfinally\u001b[0m\u001b[1;33m:\u001b[0m\u001b[1;33m\u001b[0m\u001b[0m\n\u001b[0;32m     63\u001b[0m             \u001b[0mself\u001b[0m\u001b[1;33m.\u001b[0m\u001b[0mshell\u001b[0m\u001b[1;33m.\u001b[0m\u001b[0muser_ns\u001b[0m \u001b[1;33m=\u001b[0m \u001b[0msave_user_ns\u001b[0m\u001b[1;33m\u001b[0m\u001b[0m\n",
      "\u001b[1;32m~\\Documents\\7180QueryTool\\QuestionAnswering.ipynb\u001b[0m in \u001b[0;36m<module>\u001b[1;34m\u001b[0m\n",
      "\u001b[1;31mImportError\u001b[0m: cannot import name 'AlbertConfig' from 'transformers' (c:\\users\\evan\\appdata\\local\\programs\\python\\python37\\lib\\site-packages\\transformers\\__init__.py)"
     ]
    }
   ],
   "source": [
    "# Obtain best snippets for the query\n",
    "import RelevantSnippets\n",
    "import QuestionAnswering\n",
    "for csvPaperName in glob.glob(csvdir + \"*.csv\"):\n",
    "    relevantSnippets = RelevantSnippets.returnRelevant(csvPaperName, query)\n",
    "    print(relevantSnippets + \"\\n\\n\")\n",
    "    # From snippets for each paper, return answer\n",
    "    predictions = QuestionAnswering.run_predictions(query, relevantSnippets)\n",
    "    print(predictions)"
   ]
  },
  {
   "cell_type": "code",
   "execution_count": null,
   "metadata": {},
   "outputs": [],
   "source": []
  }
 ],
 "metadata": {
  "anaconda-cloud": {},
  "kernelspec": {
   "display_name": "Python 3",
   "language": "python",
   "name": "python3"
  },
  "language_info": {
   "codemirror_mode": {
    "name": "ipython",
    "version": 3
   },
   "file_extension": ".py",
   "mimetype": "text/x-python",
   "name": "python",
   "nbconvert_exporter": "python",
   "pygments_lexer": "ipython3",
   "version": "3.7.0"
  }
 },
 "nbformat": 4,
 "nbformat_minor": 2
}
