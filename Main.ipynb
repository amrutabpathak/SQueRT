{
 "cells": [
  {
   "cell_type": "code",
   "execution_count": 208,
   "metadata": {},
   "outputs": [
    {
     "name": "stdout",
     "output_type": "stream",
     "text": [
      "['__builtins__', '__doc__', '__file__', '__loader__', '__name__', '__package__', '__spec__', 'get_ipython', 'glob', 'os', 're', 'sys']\n"
     ]
    }
   ],
   "source": [
    "import import_ipynb\n",
    "import ProcessText\n",
    "import glob\n",
    "import os\n",
    "print(dir(ProcessText))"
   ]
  },
  {
   "cell_type": "code",
   "execution_count": 209,
   "metadata": {},
   "outputs": [],
   "source": [
    "pdfdir = 'C:/Users/Evan/Documents/7180QueryTool/Data/'\n",
    "# txtdir = 'C:/Users/Evan/Documents/7180QueryTool/DataTxt/'\n",
    "txtdir = \"C:/Users/God/git/CS7800/7180QueryTool/DataTxt/\"\n",
    "csvdir = \"C:/Users/God/git/CS7800/7180QueryTool/DataCsv/\"\n",
    "# csvdir = 'C:/Users/Evan/Documents/7180QueryTool/DataCsv/'"
   ]
  },
  {
   "cell_type": "code",
   "execution_count": 210,
   "metadata": {},
   "outputs": [
    {
     "name": "stderr",
     "output_type": "stream",
     "text": [
      "ERROR:root:File `\"'arxiv_pdf_scraper.py'.py\"` not found.\n"
     ]
    }
   ],
   "source": [
    "# Scrape papers to pdf folder\n",
    "%run -i 'arxiv_pdf_scraper.py'"
   ]
  },
  {
   "cell_type": "code",
   "execution_count": 211,
   "metadata": {},
   "outputs": [],
   "source": [
    "# Convert pdfs to text\n",
    "for pdfPaperName in glob.glob(pdfdir + \"*.pdf\"):\n",
    "    ProcessText.pdfToText(pdfPaperName, txtdir)"
   ]
  },
  {
   "cell_type": "code",
   "execution_count": 212,
   "metadata": {},
   "outputs": [
    {
     "name": "stdout",
     "output_type": "stream",
     "text": [
      "Query: %s What model was introduced in this paper?\n"
     ]
    }
   ],
   "source": [
    "# Basic user interface; obtain query\n",
    "query = \"What model was introduced in this paper?\"\n",
    "print(\"Query: %s\", query)"
   ]
  },
  {
   "cell_type": "code",
   "execution_count": 216,
   "metadata": {
    "scrolled": false
   },
   "outputs": [],
   "source": [
    "# Convert text files to CSV snippets\n",
    "import glob\n",
    "sentenceNum = 1\n",
    "for txtPaperName in glob.glob(txtdir + \"*.txt\"):\n",
    "    snippetToCsv(txtPaperName, sentenceNum, csvdir)"
   ]
  },
  {
   "cell_type": "code",
   "execution_count": 217,
   "metadata": {},
   "outputs": [
    {
     "ename": "AttributeError",
     "evalue": "module 'USEmodel' has no attribute 'ApplyModel'",
     "output_type": "error",
     "traceback": [
      "\u001b[1;31m---------------------------------------------------------------------------\u001b[0m",
      "\u001b[1;31mAttributeError\u001b[0m                            Traceback (most recent call last)",
      "\u001b[1;32m<ipython-input-217-12a4a0eaa435>\u001b[0m in \u001b[0;36m<module>\u001b[1;34m\u001b[0m\n\u001b[0;32m      2\u001b[0m \u001b[1;32mimport\u001b[0m \u001b[0mUSEmodel\u001b[0m\u001b[1;33m\u001b[0m\u001b[1;33m\u001b[0m\u001b[0m\n\u001b[0;32m      3\u001b[0m \u001b[1;32mfor\u001b[0m \u001b[0mcvsPaperName\u001b[0m \u001b[1;32min\u001b[0m \u001b[0mglob\u001b[0m\u001b[1;33m.\u001b[0m\u001b[0mglob\u001b[0m\u001b[1;33m(\u001b[0m\u001b[0mcsvdir\u001b[0m \u001b[1;33m+\u001b[0m \u001b[1;34m\"*.csv\"\u001b[0m\u001b[1;33m)\u001b[0m\u001b[1;33m:\u001b[0m\u001b[1;33m\u001b[0m\u001b[1;33m\u001b[0m\u001b[0m\n\u001b[1;32m----> 4\u001b[1;33m     \u001b[0mrelevantSnippets\u001b[0m \u001b[1;33m=\u001b[0m \u001b[0mUSEmodel\u001b[0m\u001b[1;33m.\u001b[0m\u001b[0mApplyModel\u001b[0m\u001b[1;33m(\u001b[0m\u001b[0mcsvPaperName\u001b[0m\u001b[1;33m,\u001b[0m \u001b[0mquery\u001b[0m\u001b[1;33m)\u001b[0m\u001b[1;33m\u001b[0m\u001b[1;33m\u001b[0m\u001b[0m\n\u001b[0m\u001b[0;32m      5\u001b[0m     \u001b[0mprint\u001b[0m\u001b[1;33m(\u001b[0m\u001b[0mrelevantSnippets\u001b[0m\u001b[1;33m)\u001b[0m\u001b[1;33m\u001b[0m\u001b[1;33m\u001b[0m\u001b[0m\n",
      "\u001b[1;31mAttributeError\u001b[0m: module 'USEmodel' has no attribute 'ApplyModel'"
     ]
    }
   ],
   "source": [
    "# Use USE to obtain best snippets for query\n",
    "import USEmodel\n",
    "for cvsPaperName in glob.glob(csvdir + \"*.csv\"):\n",
    "    relevantSnippets = USEmodel.ApplyModel(csvPaperName, query)\n",
    "    print(relevantSnippets)"
   ]
  },
  {
   "cell_type": "code",
   "execution_count": null,
   "metadata": {},
   "outputs": [],
   "source": [
    "# Run BERT on best snippets, return results"
   ]
  }
 ],
 "metadata": {
  "anaconda-cloud": {},
  "kernelspec": {
   "display_name": "Python 3.6.9 64-bit ('base': conda)",
   "language": "python",
   "name": "python36964bitbaseconda636859353c3844ada954a1f97e5cdc49"
  },
  "language_info": {
   "codemirror_mode": {
    "name": "ipython",
    "version": 3
   },
   "file_extension": ".py",
   "mimetype": "text/x-python",
   "name": "python",
   "nbconvert_exporter": "python",
   "pygments_lexer": "ipython3",
   "version": "3.6.9"
  }
 },
 "nbformat": 4,
 "nbformat_minor": 2
}
