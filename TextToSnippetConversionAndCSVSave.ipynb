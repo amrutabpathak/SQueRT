{
  "nbformat": 4,
  "nbformat_minor": 0,
  "metadata": {
    "colab": {
      "name": "TextToSnippetConversionAndCSVSave",
      "provenance": [],
      "collapsed_sections": [],
      "toc_visible": true
    },
    "kernelspec": {
      "name": "python3",
      "display_name": "Python 3"
    }
  },
  "cells": [
    {
      "cell_type": "code",
      "metadata": {
        "id": "od3urGeruLl5",
        "colab_type": "code",
        "colab": {
          "base_uri": "https://localhost:8080/",
          "height": 104
        },
        "outputId": "7ef37d32-bbcb-403f-f1a1-2da4c04e2423"
      },
      "source": [
        "import os\n",
        "import glob\n",
        "\n",
        "def snippetToCsvConversion(researchFile, sentenceNum = 3):\n",
        "  try:\n",
        "    #Calling Spacy function to return a list\n",
        "    #sentenceList = spacyFunction(researchFile,sentenceNum)\n",
        "    #Test List\n",
        "    sentenceList = [\"I am a human.We all are humans.You are a human\",\"Hello world. Hi. Test World\"]\n",
        "\n",
        "    #Splitting file name and path\n",
        "    filePath, fileName = os.path.split(researchFile)\n",
        "    print(fileName)\n",
        "    print(filePath)\n",
        "\n",
        "    #Creating a separate folder for all the csv files if it does not exist\n",
        "    snippetDataDirPath = filePath + \"/snippet_data\"\n",
        "    print(snippetDataDirPath)\n",
        "\n",
        "    # Creating a folder for all the csv files if it does not exist\n",
        "    if( not os.path.exists(snippetDataDirPath)):\n",
        "      os.mkdir(snippetDataDirPath)\n",
        "\n",
        "    #create a file name : Eg BestModel_3.csv\n",
        "    fileName = fileName.replace(\".txt\",\"\")\n",
        "    fileName = fileName +\"_\"+ str(sentenceNum) + \".csv\"\n",
        "    print(fileName)\n",
        "\n",
        "    #Complete path\n",
        "    fileName = snippetDataDirPath+\"/\"+fileName\n",
        "\n",
        "    #Checking if the files already exist in snippet_data\n",
        "    if(glob.glob(fileName)):\n",
        "      print(\"File already exists.\")\n",
        "      return\n",
        "\n",
        "    #If not, we create and write in the files\n",
        "    with open(fileName,\"w+\") as file: \n",
        "      for sentence in sentenceList:\n",
        "        file.write(sentence)\n",
        "        file.write(\"\\n\")\n",
        "        file.write(\"<EOS>\")\n",
        "        file.write(\"\\n\")\n",
        "    \n",
        "  except Exception as e:\n",
        "    print (\"Unexpected error occurred : Details are \", sys.exc_info()[0])\n",
        "  finally:\n",
        "    print(\"Exit\")\n",
        "\n",
        "#Calling the function, \n",
        "#Takes research file(alongwith the file path) and number of sentences \n",
        "snippetToCsvConversion(\"/content/a.txt\",3)\n"
      ],
      "execution_count": 61,
      "outputs": [
        {
          "output_type": "stream",
          "text": [
            "a.txt\n",
            "/content\n",
            "/content/snippet_data\n",
            "a_3.csv\n",
            "Exit\n"
          ],
          "name": "stdout"
        }
      ]
    }
  ]
}