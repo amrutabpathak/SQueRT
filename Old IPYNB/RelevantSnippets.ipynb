{
 "cells": [
  {
   "cell_type": "code",
   "execution_count": null,
   "metadata": {},
   "outputs": [],
   "source": [
    "import spacy\n",
    "import csv\n",
    "import heapq"
   ]
  },
  {
   "cell_type": "code",
   "execution_count": null,
   "metadata": {},
   "outputs": [],
   "source": [
    "class QuerySnippet:\n",
    "\n",
    "    def __init__(self, query, snippet, similarity):\n",
    "        self.query = query\n",
    "        self.snippet = snippet\n",
    "        self.similarity = similarity\n",
    "\n",
    "    \n",
    "    def __gt__(self, other):\n",
    "        return self.similarity > other.similarity\n",
    "\n",
    "    def __lt__(self, other):\n",
    "        return self.similarity < other.similarity"
   ]
  },
  {
   "cell_type": "code",
   "execution_count": null,
   "metadata": {},
   "outputs": [],
   "source": [
    "def returnRelevant(researchPaper, query, numSnippets = 15):\n",
    "    # Make sure these are downloaded before using\n",
    "    # model_list = ['en_trf_bertbaseuncased_lg','en_trf_robertabase_lg','en_trf_distilbertbaseuncased_lg']\n",
    "    model_list = ['en_trf_bertbaseuncased_lg']\n",
    "    relevantSnippets = []\n",
    "    \n",
    "    for model in model_list:\n",
    "        researchPpr_NLP = spacy.load(model)\n",
    "        with open(researchPaper, encoding='utf8') as researchPaperCSV:\n",
    "            researchPaperReader = csv.reader(researchPaperCSV)\n",
    "            score_max_heap = []\n",
    "            queryObj = researchPpr_NLP(query)\n",
    "            for snippet in researchPaperReader:\n",
    "                if('<EOS>' not in snippet):\n",
    "                    snippetStr = \" \"\n",
    "                    snippetStr = ' '.join([str(elem) for elem in snippet])\n",
    "                    snippetObj = researchPpr_NLP(snippetStr)\n",
    "                    qs = QuerySnippet(query, snippet, queryObj.similarity(snippetObj))\n",
    "                    if len(score_max_heap) < numSnippets or qs.similarity > score_max_heap[0].similarity:\n",
    "                        if len(score_max_heap) == numSnippets: heapq.heappop(score_max_heap)\n",
    "                        heapq.heappush(score_max_heap, qs)\n",
    "            for qs in score_max_heap:\n",
    "                relevantSnippets.append(qs.snippet)\n",
    "    return relevantSnippets"
   ]
  }
 ],
 "metadata": {
  "kernelspec": {
   "display_name": "Python 3",
   "language": "python",
   "name": "python3"
  },
  "language_info": {
   "codemirror_mode": {
    "name": "ipython",
    "version": 3
   },
   "file_extension": ".py",
   "mimetype": "text/x-python",
   "name": "python",
   "nbconvert_exporter": "python",
   "pygments_lexer": "ipython3",
   "version": "3.7.0"
  }
 },
 "nbformat": 4,
 "nbformat_minor": 4
}
